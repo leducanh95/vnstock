{
 "cells": [
  {
   "cell_type": "code",
   "execution_count": 4,
   "id": "379c19f9",
   "metadata": {},
   "outputs": [],
   "source": [
    "import vnquant.DataLoader as web"
   ]
  },
  {
   "cell_type": "code",
   "execution_count": 13,
   "id": "5fb52083",
   "metadata": {},
   "outputs": [
    {
     "name": "stderr",
     "output_type": "stream",
     "text": [
      "/usr/local/lib/python3.9/site-packages/vnquant-0.0.2-py3.9.egg/vnquant/DataLoader.py:251: FutureWarning: Columnar iteration over characters will be deprecated in future releases.\n",
      "  stock_data['change_perc1'], stock_data['change_perc2'] = stock_data['change_perc'].apply(utils.split_change_col).str\n",
      "2022-01-09 00:16:38,295 : INFO : data ACB from 2015-01-01 to 2022-01-01 have already cloned!\n"
     ]
    },
    {
     "data": {
      "text/html": [
       "<div>\n",
       "<style scoped>\n",
       "    .dataframe tbody tr th:only-of-type {\n",
       "        vertical-align: middle;\n",
       "    }\n",
       "\n",
       "    .dataframe tbody tr th {\n",
       "        vertical-align: top;\n",
       "    }\n",
       "\n",
       "    .dataframe thead tr th {\n",
       "        text-align: left;\n",
       "    }\n",
       "\n",
       "    .dataframe thead tr:last-of-type th {\n",
       "        text-align: right;\n",
       "    }\n",
       "</style>\n",
       "<table border=\"1\" class=\"dataframe\">\n",
       "  <thead>\n",
       "    <tr>\n",
       "      <th>Attributes</th>\n",
       "      <th>high</th>\n",
       "      <th>low</th>\n",
       "      <th>open</th>\n",
       "      <th>close</th>\n",
       "      <th>adjust</th>\n",
       "      <th>volume</th>\n",
       "    </tr>\n",
       "    <tr>\n",
       "      <th>Symbols</th>\n",
       "      <th>ACB</th>\n",
       "      <th>ACB</th>\n",
       "      <th>ACB</th>\n",
       "      <th>ACB</th>\n",
       "      <th>ACB</th>\n",
       "      <th>ACB</th>\n",
       "    </tr>\n",
       "    <tr>\n",
       "      <th>date</th>\n",
       "      <th></th>\n",
       "      <th></th>\n",
       "      <th></th>\n",
       "      <th></th>\n",
       "      <th></th>\n",
       "      <th></th>\n",
       "    </tr>\n",
       "  </thead>\n",
       "  <tbody>\n",
       "    <tr>\n",
       "      <th>2015-01-05</th>\n",
       "      <td>15.4</td>\n",
       "      <td>15.2</td>\n",
       "      <td>15.4</td>\n",
       "      <td>15.3</td>\n",
       "      <td>5.49</td>\n",
       "      <td>55890</td>\n",
       "    </tr>\n",
       "    <tr>\n",
       "      <th>2015-01-06</th>\n",
       "      <td>15.5</td>\n",
       "      <td>15.1</td>\n",
       "      <td>15.2</td>\n",
       "      <td>15.5</td>\n",
       "      <td>5.56</td>\n",
       "      <td>89802</td>\n",
       "    </tr>\n",
       "    <tr>\n",
       "      <th>2015-01-07</th>\n",
       "      <td>16.0</td>\n",
       "      <td>15.5</td>\n",
       "      <td>15.5</td>\n",
       "      <td>15.7</td>\n",
       "      <td>5.63</td>\n",
       "      <td>232912</td>\n",
       "    </tr>\n",
       "    <tr>\n",
       "      <th>2015-01-08</th>\n",
       "      <td>15.8</td>\n",
       "      <td>15.6</td>\n",
       "      <td>15.7</td>\n",
       "      <td>15.8</td>\n",
       "      <td>5.67</td>\n",
       "      <td>14920</td>\n",
       "    </tr>\n",
       "    <tr>\n",
       "      <th>2015-01-09</th>\n",
       "      <td>16.3</td>\n",
       "      <td>15.6</td>\n",
       "      <td>15.8</td>\n",
       "      <td>15.9</td>\n",
       "      <td>5.70</td>\n",
       "      <td>693623</td>\n",
       "    </tr>\n",
       "  </tbody>\n",
       "</table>\n",
       "</div>"
      ],
      "text/plain": [
       "Attributes  high   low  open close adjust  volume\n",
       "Symbols      ACB   ACB   ACB   ACB    ACB     ACB\n",
       "date                                             \n",
       "2015-01-05  15.4  15.2  15.4  15.3   5.49   55890\n",
       "2015-01-06  15.5  15.1  15.2  15.5   5.56   89802\n",
       "2015-01-07  16.0  15.5  15.5  15.7   5.63  232912\n",
       "2015-01-08  15.8  15.6  15.7  15.8   5.67   14920\n",
       "2015-01-09  16.3  15.6  15.8  15.9   5.70  693623"
      ]
     },
     "execution_count": 13,
     "metadata": {},
     "output_type": "execute_result"
    }
   ],
   "source": [
    "loader = web.DataLoader('ACB', '2015-01-01','2022-01-01')\n",
    "data = loader.download()\n",
    "data.head()"
   ]
  },
  {
   "cell_type": "code",
   "execution_count": 16,
   "id": "90737e81",
   "metadata": {},
   "outputs": [],
   "source": [
    "data.columns = ['high', 'low', 'open', 'close', 'adjust', 'volume']"
   ]
  },
  {
   "cell_type": "code",
   "execution_count": 17,
   "id": "25682445",
   "metadata": {},
   "outputs": [
    {
     "data": {
      "text/html": [
       "<div>\n",
       "<style scoped>\n",
       "    .dataframe tbody tr th:only-of-type {\n",
       "        vertical-align: middle;\n",
       "    }\n",
       "\n",
       "    .dataframe tbody tr th {\n",
       "        vertical-align: top;\n",
       "    }\n",
       "\n",
       "    .dataframe thead th {\n",
       "        text-align: right;\n",
       "    }\n",
       "</style>\n",
       "<table border=\"1\" class=\"dataframe\">\n",
       "  <thead>\n",
       "    <tr style=\"text-align: right;\">\n",
       "      <th></th>\n",
       "      <th>high</th>\n",
       "      <th>low</th>\n",
       "      <th>open</th>\n",
       "      <th>close</th>\n",
       "      <th>adjust</th>\n",
       "      <th>volume</th>\n",
       "    </tr>\n",
       "    <tr>\n",
       "      <th>date</th>\n",
       "      <th></th>\n",
       "      <th></th>\n",
       "      <th></th>\n",
       "      <th></th>\n",
       "      <th></th>\n",
       "      <th></th>\n",
       "    </tr>\n",
       "  </thead>\n",
       "  <tbody>\n",
       "    <tr>\n",
       "      <th>2015-01-05</th>\n",
       "      <td>15.4</td>\n",
       "      <td>15.2</td>\n",
       "      <td>15.4</td>\n",
       "      <td>15.3</td>\n",
       "      <td>5.49</td>\n",
       "      <td>55890</td>\n",
       "    </tr>\n",
       "    <tr>\n",
       "      <th>2015-01-06</th>\n",
       "      <td>15.5</td>\n",
       "      <td>15.1</td>\n",
       "      <td>15.2</td>\n",
       "      <td>15.5</td>\n",
       "      <td>5.56</td>\n",
       "      <td>89802</td>\n",
       "    </tr>\n",
       "    <tr>\n",
       "      <th>2015-01-07</th>\n",
       "      <td>16.0</td>\n",
       "      <td>15.5</td>\n",
       "      <td>15.5</td>\n",
       "      <td>15.7</td>\n",
       "      <td>5.63</td>\n",
       "      <td>232912</td>\n",
       "    </tr>\n",
       "    <tr>\n",
       "      <th>2015-01-08</th>\n",
       "      <td>15.8</td>\n",
       "      <td>15.6</td>\n",
       "      <td>15.7</td>\n",
       "      <td>15.8</td>\n",
       "      <td>5.67</td>\n",
       "      <td>14920</td>\n",
       "    </tr>\n",
       "    <tr>\n",
       "      <th>2015-01-09</th>\n",
       "      <td>16.3</td>\n",
       "      <td>15.6</td>\n",
       "      <td>15.8</td>\n",
       "      <td>15.9</td>\n",
       "      <td>5.70</td>\n",
       "      <td>693623</td>\n",
       "    </tr>\n",
       "  </tbody>\n",
       "</table>\n",
       "</div>"
      ],
      "text/plain": [
       "            high   low  open  close  adjust  volume\n",
       "date                                               \n",
       "2015-01-05  15.4  15.2  15.4   15.3    5.49   55890\n",
       "2015-01-06  15.5  15.1  15.2   15.5    5.56   89802\n",
       "2015-01-07  16.0  15.5  15.5   15.7    5.63  232912\n",
       "2015-01-08  15.8  15.6  15.7   15.8    5.67   14920\n",
       "2015-01-09  16.3  15.6  15.8   15.9    5.70  693623"
      ]
     },
     "execution_count": 17,
     "metadata": {},
     "output_type": "execute_result"
    }
   ],
   "source": [
    "data.head()"
   ]
  },
  {
   "cell_type": "code",
   "execution_count": 20,
   "id": "714a3fea",
   "metadata": {},
   "outputs": [
    {
     "data": {
      "text/plain": [
       "0.703125"
      ]
     },
     "execution_count": 20,
     "metadata": {},
     "output_type": "execute_result"
    }
   ],
   "source": [
    "(data['open'].max() - data['open'].min())/data['open'].max()"
   ]
  },
  {
   "cell_type": "code",
   "execution_count": 21,
   "id": "4556a831",
   "metadata": {},
   "outputs": [
    {
     "data": {
      "text/plain": [
       "10.0"
      ]
     },
     "execution_count": 21,
     "metadata": {},
     "output_type": "execute_result"
    }
   ],
   "source": [
    "70/7"
   ]
  },
  {
   "cell_type": "code",
   "execution_count": null,
   "id": "c70bd96d",
   "metadata": {},
   "outputs": [],
   "source": []
  }
 ],
 "metadata": {
  "kernelspec": {
   "display_name": "Python 3",
   "language": "python",
   "name": "python3"
  },
  "language_info": {
   "codemirror_mode": {
    "name": "ipython",
    "version": 3
   },
   "file_extension": ".py",
   "mimetype": "text/x-python",
   "name": "python",
   "nbconvert_exporter": "python",
   "pygments_lexer": "ipython3",
   "version": "3.9.4"
  }
 },
 "nbformat": 4,
 "nbformat_minor": 5
}
